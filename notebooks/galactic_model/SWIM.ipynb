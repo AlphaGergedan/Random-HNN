{
 "cells": [
  {
   "cell_type": "code",
   "execution_count": 1,
   "id": "79c23370-8181-4c00-a497-0b5895b3593f",
   "metadata": {},
   "outputs": [],
   "source": [
    "# append code path\n",
    "import sys\n",
    "sys.path.append('../../../code')\n",
    "\n",
    "# common modules\n",
    "import numpy as np\n",
    "from time import time\n",
    "from swimnetworks import Linear, Dense\n",
    "from activations import Activations \n",
    "\n",
    "# swim solving Hamiltonian systems\n",
    "from swim import solve_swim_hamiltonian, weight_sampling\n",
    "from NN.extreme_learning_machine import ELM\n",
    "\n",
    "# physical systems\n",
    "from galactic_model import GalacticModel\n",
    "\n",
    "# utils for visualization\n",
    "from draw import draw_2d"
   ]
  },
  {
   "cell_type": "markdown",
   "id": "1f77313b-6d12-4c9c-91f2-ecfa3572160e",
   "metadata": {},
   "source": [
    "## **6-D Example**\n",
    "\n",
    "The following function is a Hamiltonian with 6 degrees of freedom. Therefore, let's define our general Hamiltonian system!\n",
    "\n",
    "A Hamiltonian system is determined through a function called ***Hamiltonian***. \n",
    "\n",
    "### $$H: E \\rightarrow \\mathbb{R} $$  \n",
    "\n",
    "The Hamiltonian incorporates the following set of equations that dictates how a dynamical system changes and evolves over time.  \n",
    "\n",
    "### $$ \\frac{\\partial q(t)}{\\partial t} = \\frac{\\partial H(q(t),p(t))}{\\partial p} $$\n",
    "\n",
    "### $$ \\frac{\\partial p(t)}{\\partial t} = -\\frac{\\partial H(q(t),p(t))}{\\partial q} $$\n",
    "\n",
    "Where $(q,p) \\in \\mathbb{R}^{2n}$, and $n$ is the number of degrees of freedom of the system. The equations above can be restated as the following to construct a PDE for $H$ at every $(q,p) \\in E $,\n",
    "\n",
    "### $$\\begin{bmatrix} 0 & I \\\\ -I & 0 \\end{bmatrix} \\cdot \\nabla H(q,p) - v(q,p) $$\n",
    "### $$ = \\begin{bmatrix} 0 & I \\\\ -I & 0 \\end{bmatrix} \\cdot \\begin{bmatrix} \\frac{\\partial H(q,p)}{\\partial q} \\\\ \\frac{\\partial H(q,p)}{\\partial p} \\end{bmatrix} - \\begin{bmatrix} \\frac{\\partial q}{\\partial t} \\\\ \\frac{\\partial p}{\\partial t} \\end{bmatrix} $$\n",
    "### $$ = \\begin{bmatrix} \\frac{\\partial H(q,p)}{\\partial p} \\\\ -\\frac{\\partial H(q,p)}{\\partial q} \\end{bmatrix} - \\begin{bmatrix} \\frac{\\partial q}{\\partial t} \\\\ \\frac{\\partial p}{\\partial t} \\end{bmatrix} = 0 $$\n",
    "\n",
    "where $I \\in \\mathbb{R}^{n \\times n}$ is the identity matrix and $v$ is the vector field on $E$. \n",
    "\n",
    "### **Galactic Model**\n",
    "\n",
    "The particular function that we want to approximate is the Galactic model. This system has 3 degrees of freedom, i.e. $n = 3$, so $(q,p) \\in \\mathbb{R}^6$ where $q = (q_1, q_2, q_3)$ and $p = (p_1, p_2, p_3)$, and for the PDE of the Hamiltonian please refer to the code.\n",
    "\n",
    "The Hamiltonian for this particular system is the following:"
   ]
  },
  {
   "cell_type": "code",
   "execution_count": 2,
   "id": "50174060-6946-4269-8905-309c3872beb4",
   "metadata": {},
   "outputs": [
    {
     "name": "stdout",
     "output_type": "stream",
     "text": [
      "(1000000,)\n"
     ]
    },
    {
     "name": "stderr",
     "output_type": "stream",
     "text": [
      "/home/gergedan/WS24/thesis/code/notebooks/galactic_model/../../../code/galactic_model.py:18: RuntimeWarning: invalid value encountered in log\n",
      "  return (self.v0 / 2) * np.log(q1**2 + self.alpha * q2**2 + self.beta * q3**2 - self.l * q1**3 + self.cb**2 + 1e-100)\n"
     ]
    }
   ],
   "source": [
    "galactic_model = GalacticModel()\n",
    "H = galactic_model.H\n",
    "dH = galactic_model.dH\n",
    "\n",
    "# We will plot the phase space of our example system \n",
    "# to get an overview of the global view of the phase \n",
    "# space that we would like to approximate.\n",
    "\n",
    "# num. of points in the grid, grid dimension is (N_q1 x N_q2 x N_p1 x N_p2)\n",
    "N_q1, N_q2, N_q3, N_p1, N_p2, N_p3 = 10, 10, 10, 10, 10, 10 \n",
    "N = N_q1 * N_q2 * N_q3 * N_p1 * N_p2 * N_q3 \n",
    "q1_lim, q2_lim, q3_lim = [0, 10], [0, 10], [0, 10]\n",
    "p1_lim, p2_lim, p3_lim = [0, 10], [0, 10], [0, 10]\n",
    " \n",
    "q1_range, q2_range, q3_range = np.linspace(q1_lim[0], q1_lim[1], N_q1), np.linspace(q2_lim[0], q2_lim[1], N_q2), np.linspace(q3_lim[0], q3_lim[1], N_q3)\n",
    "p1_range, p2_range, p3_range = np.linspace(p1_lim[0], p1_lim[1], N_p1), np.linspace(p2_lim[0], p2_lim[1], N_p2), np.linspace(p3_lim[0], p3_lim[1], N_p3)\n",
    "\n",
    "q1_grid, q2_grid, q3_grid, p1_grid, p2_grid, p3_grid = np.meshgrid(q1_range, q2_range, q3_range, p1_range, p2_range, p3_range)\n",
    "\n",
    "# prepare the input x = [ x_1, .., x_{N} ] of shape (N,6) \n",
    "x = np.column_stack([q1_grid.flatten(), q2_grid.flatten(), q3_grid.flatten(), p1_grid.flatten(), p2_grid.flatten(), p3_grid.flatten()])\n",
    "y = H(x) # of shape (N,)\n",
    "dx = dH(x) # of shape (N, 6)\n",
    "assert x.shape == (N, 6)\n",
    "assert y.shape == (N,)\n",
    "assert dx.shape == (N, 6)\n",
    "\n",
    "# in order to plot the values, we need to have output of H(x) in\n",
    "# shape (N_q3, N_q2, N_q1, N_p1, N_p2, N_p3), which means we get the value H(x)[i,j,k,l,m,n] for the \n",
    "# grid point at (q2_grid[k,j,i,l,m,n], q1_grid[k,j,i,l,m,n], p1_grid[k,j,i,l,m,n], p2_grid[k,j,i,l,m,n])\n",
    "print(y.shape)\n",
    "y_grid = y.reshape((N_q3, N_q2, N_q1, N_p1, N_p2, N_p3))\n",
    "dx_grid = dx.reshape((N_q3, N_q2, N_q1, N_p1, N_p2, N_p3, 6))\n",
    "\n",
    "# visualize H(x)\n",
    "# fix q1 = 0, p1 = 0 by choosing j = N_q1 / 2 and k = N_p1 / 2\n",
    "#print(\"y_grid[:,..,..,:] shape:\", y_grid[:, N_q1 // 2, N_p1 // 2, :].shape)\n",
    "#print(\"N_q1 / 2 == \" + str(N_q1 // 2))\n",
    "#print(\"y_grid[0, N_q1//2]\")\n",
    "\n",
    "# 5 poincare maps\n",
    "#plot_data_1 = y_grid[:, N_q1//2, N_p1//2, :].reshape((N_p2, N_q2)) \n",
    "#draw_2d(plot_data_1, q2_range, p2_range, extent=[q2_lim[0],q2_lim[1],p2_lim[0],p2_lim[1]], showcontour=True, xlabel='q2', ylabel='p2', aspect=2.5, title=\"H(x) with q1,p1 near 0\")\n",
    "\n",
    "#plot_data_2 = y_grid[N_q2//2, :, :, N_p2//2].reshape((N_p1, N_q1)) \n",
    "#draw_2d(plot_data_2, q1_range, p1_range, extent=[q1_lim[0],q1_lim[1],p1_lim[0],p1_lim[1]], showcontour=True, xlabel='q1', ylabel='p1', aspect=2.5, title=\"H(x) with q2,p2 near 0\")\n",
    "\n",
    "#plot_data_3 = y_grid[:, :, N_p1//2, N_p2//2].reshape((N_q1, N_q2)) \n",
    "#draw_2d(plot_data_3, q2_range, q1_range, extent=[q2_lim[0],q2_lim[1],q1_lim[0],q1_lim[1]], showcontour=True, xlabel='q2', ylabel='q1', aspect=1, title=\"H(x) with p1,p2 near 0\")\n",
    "\n",
    "#plot_data_4 = y_grid[N_q2//2, N_q1//2, :, :].reshape((N_p2, N_p1)) \n",
    "#draw_2d(plot_data_4, p1_range, p2_range, extent=[p1_lim[0],p1_lim[1],p2_lim[0],p2_lim[1]], showcontour=True, xlabel='p1', ylabel='p2', aspect=1, title=\"H(x) with q1,q2 near 0\")\n",
    "\n",
    "#plot_data_5 = y_grid[40, 0, :, :].reshape((N_p2, N_p1)) \n",
    "#draw_2d(plot_data_5, p1_range, p2_range, extent=[p1_lim[0],p1_lim[1],p2_lim[0],p2_lim[1]], showcontour=True, xlabel='p1', ylabel='p2', aspect=1, title=\"H(x) with q1,q2=\" + str(q2_grid[40,0,0,0]) + \",\" + str(q1_grid[0,0,0,0]))"
   ]
  },
  {
   "cell_type": "code",
   "execution_count": 3,
   "id": "d4fc1662-dcae-41b8-a42f-2b99181ec671",
   "metadata": {},
   "outputs": [],
   "source": [
    "np.random.seed(123495)\n",
    "\n",
    "# Sample training dataset\n",
    "# hint: use sampled 1000 random points in [-pi/2,pi/2]x[-1/2,1/2]\n",
    "noise = 1e-5\n",
    "#K_q1, K_q2, K_p1, K_p2 = 25, 25, 5, 5 # 15625\n",
    "K_q1, K_q2, K_q3, K_p1, K_p2, K_p3 = 5, 5, 5, 5, 5, 5 # ??\n",
    "K = K_q1 * K_q2 * K_q3 * K_p1 * K_p2 * K_p3\n",
    "q1_lim_train, q2_lim_train, q3_lim_train = [0, 10], [0, 10], [0, 10]\n",
    "p1_lim_train, p2_lim_train, p3_lim_train = [0, 10], [0, 10], [0, 10]\n",
    "q1_range_train, q2_range_train, q3_range_train = np.linspace(q1_lim_train[0], q1_lim_train[1], K_q1)+np.random.randn(K_q1)*noise*1e-3, np.linspace(q2_lim_train[0], q2_lim_train[1], K_q2)+np.random.randn(K_q1)*noise*1e-3, np.linspace(q3_lim_train[0], q3_lim_train[1], K_q3)+np.random.randn(K_q3)*noise*1e-3\n",
    "p1_range_train, p2_range_train, p3_range_train = np.linspace(p1_lim_train[0], p1_lim_train[1], K_p1)+np.random.randn(K_p1)*noise*1e-3, np.linspace(p2_lim_train[0], p2_lim_train[1], K_p2)+np.random.randn(K_p2)*noise*1e-3, np.linspace(p3_lim_train[0], p3_lim_train[1], K_p3)+np.random.randn(K_p3)*noise*1e-3\n",
    "q1_grid_train, q2_grid_train, q3_grid_train, p1_grid_train, p2_grid_train, p3_grid_train = np.meshgrid(q1_range_train, q2_range_train, q3_range_train, p1_range_train, p2_range_train, p3_range_train) \n",
    "x_train_values = np.column_stack([q1_grid_train.flatten(), q2_grid_train.flatten(), q3_grid_train.flatten(), p1_grid_train.flatten(), p2_grid_train.flatten(), p3_grid_train.flatten()])\n",
    "x_train_derivs = dH(x_train_values) # of shape (K,6)\n",
    "x0 = np.array([0,0,0,0,0,0])\n",
    "f0 = H(x0.reshape(-1,6))\n",
    "\n",
    "# Sample points that we want to predict -- we use the same ones in the above cell which is just x"
   ]
  },
  {
   "cell_type": "code",
   "execution_count": 4,
   "id": "5d2d5446-7176-4b41-b2ee-971036594d12",
   "metadata": {},
   "outputs": [
    {
     "name": "stdout",
     "output_type": "stream",
     "text": [
      "train loss: nan\n",
      "eval loss: nan\n"
     ]
    }
   ],
   "source": [
    "# ELM\n",
    "random_seed = 1\n",
    "# define the parameters\n",
    "M = 1000\n",
    "regularization_scale = 1e-8 # for the lstsq, same as bertalan-2019\n",
    "random_seed = 1\n",
    "sample_uniformly = True\n",
    "parameter_sampler = 'random' # 'relu', 'tanh', 'random'\n",
    "activation = 'relu'\n",
    "\n",
    "swim_model = solve_swim_hamiltonian(\n",
    "    x_train_values, x_train_derivs, x0, f0,\n",
    "    n_hidden=M, activation=activation, parameter_sampler=parameter_sampler, sample_uniformly=sample_uniformly, rcond=regularization_scale, random_seed=1 + random_seed + 1 * 1234, \n",
    "    include_bias=True\n",
    ")\n",
    "\n",
    "# swim model approximation is\n",
    "phi_2 = swim_model.transform(x).reshape(-1) # (N)\n",
    "train_mse_loss = np.sum((H(x_train_values).reshape(-1) - swim_model.transform(x_train_values).reshape(-1))**2) / K\n",
    "eval_mse_loss = np.sum((y - phi_2)**2) / N\n",
    "print(\"train loss:\", str(train_mse_loss))\n",
    "print(\"eval loss:\", str(eval_mse_loss))"
   ]
  },
  {
   "cell_type": "code",
   "execution_count": 5,
   "id": "a6b0a7f9-97c0-4e0a-b832-1e5f52e483b2",
   "metadata": {},
   "outputs": [
    {
     "name": "stdout",
     "output_type": "stream",
     "text": [
      "train loss: nan\n",
      "eval loss: nan\n"
     ]
    }
   ],
   "source": [
    "# SWIM with random data picking\n",
    "parameter_sampler = 'relu' # 'relu', 'tanh', 'random'\n",
    "\n",
    "swim_model = solve_swim_hamiltonian(\n",
    "    x_train_values, x_train_derivs, x0, f0,\n",
    "    n_hidden=M, activation=activation, parameter_sampler=parameter_sampler, sample_uniformly=sample_uniformly, rcond=regularization_scale, random_seed=1 + random_seed + 1 * 1234, \n",
    "    include_bias=True\n",
    ")\n",
    "\n",
    "# swim model approximation is\n",
    "phi_2 = swim_model.transform(x).reshape(-1) # (N)\n",
    "train_mse_loss = np.sum((H(x_train_values).reshape(-1) - swim_model.transform(x_train_values).reshape(-1))**2) / K\n",
    "eval_mse_loss = np.sum((y - phi_2)**2) / N\n",
    "print(\"train loss:\", str(train_mse_loss))\n",
    "print(\"eval loss:\", str(eval_mse_loss))"
   ]
  },
  {
   "cell_type": "code",
   "execution_count": 6,
   "id": "bed5cde3-c774-458b-879b-3d0e946c19f9",
   "metadata": {},
   "outputs": [
    {
     "name": "stdout",
     "output_type": "stream",
     "text": [
      "train loss: nan\n",
      "eval loss: nan\n"
     ]
    }
   ],
   "source": [
    "# SWIM with random data picking\n",
    "swim_model = weight_sampling(\n",
    "    x_train_values, x_train_derivs, x0, f0,\n",
    "    n_hidden=M, activation=activation, parameter_sampler=parameter_sampler, rcond=regularization_scale, random_seed=1 + random_seed + 1 * 1234, \n",
    "    include_bias=True\n",
    ")\n",
    "\n",
    "# swim model approximation is\n",
    "phi_2 = swim_model.transform(x).reshape(-1) # (N)\n",
    "train_mse_loss = np.sum((H(x_train_values).reshape(-1) - swim_model.transform(x_train_values).reshape(-1))**2) / K\n",
    "eval_mse_loss = np.sum((y - phi_2)**2) / N\n",
    "print(\"train loss:\", str(train_mse_loss))\n",
    "print(\"eval loss:\", str(eval_mse_loss))"
   ]
  },
  {
   "cell_type": "code",
   "execution_count": 7,
   "id": "04d3ca1f-b7a6-41e9-bc39-844ea0a53b8c",
   "metadata": {},
   "outputs": [
    {
     "name": "stdout",
     "output_type": "stream",
     "text": [
      "train loss: nan\n",
      "eval loss: nan\n"
     ]
    }
   ],
   "source": [
    "# ELM\n",
    "parameter_sampler = 'random' # 'relu', 'tanh', 'random'\n",
    "activation = 'tanh'\n",
    "\n",
    "swim_model = solve_swim_hamiltonian(\n",
    "    x_train_values, x_train_derivs, x0, f0,\n",
    "    n_hidden=M, activation=activation, parameter_sampler=parameter_sampler, sample_uniformly=sample_uniformly, rcond=regularization_scale, random_seed=1 + random_seed + 1 * 1234, \n",
    "    include_bias=True\n",
    ")\n",
    "\n",
    "# swim model approximation is\n",
    "phi_2 = swim_model.transform(x).reshape(-1) # (N)\n",
    "train_mse_loss = np.sum((H(x_train_values).reshape(-1) - swim_model.transform(x_train_values).reshape(-1))**2) / K\n",
    "eval_mse_loss = np.sum((y - phi_2)**2) / N\n",
    "print(\"train loss:\", str(train_mse_loss))\n",
    "print(\"eval loss:\", str(eval_mse_loss))"
   ]
  },
  {
   "cell_type": "code",
   "execution_count": null,
   "id": "e54dd42b-16fb-4e0e-b9a5-1b96bccd5ae5",
   "metadata": {},
   "outputs": [],
   "source": [
    "# SWIM with random data picking\n",
    "parameter_sampler = 'tanh' # 'relu', 'tanh', 'random'\n",
    "\n",
    "swim_model = solve_swim_hamiltonian(\n",
    "    x_train_values, x_train_derivs, x0, f0,\n",
    "    n_hidden=M, activation=activation, parameter_sampler=parameter_sampler, sample_uniformly=sample_uniformly, rcond=regularization_scale, random_seed=1 + random_seed + 1 * 1234, \n",
    "    include_bias=True\n",
    ")\n",
    "\n",
    "# swim model approximation is\n",
    "phi_2 = swim_model.transform(x).reshape(-1) # (N)\n",
    "train_mse_loss = np.sum((H(x_train_values).reshape(-1) - swim_model.transform(x_train_values).reshape(-1))**2) / K\n",
    "eval_mse_loss = np.sum((y - phi_2)**2) / N\n",
    "print(\"train loss:\", str(train_mse_loss))\n",
    "print(\"eval loss:\", str(eval_mse_loss))"
   ]
  },
  {
   "cell_type": "code",
   "execution_count": null,
   "id": "5a52a3e3-75c7-4b11-aed0-0284e0f3957b",
   "metadata": {},
   "outputs": [],
   "source": [
    "# SWIM with random data picking\n",
    "swim_model = weight_sampling(\n",
    "    x_train_values, x_train_derivs, x0, f0,\n",
    "    n_hidden=M, activation=activation, parameter_sampler=parameter_sampler, rcond=regularization_scale, random_seed=1 + random_seed + 1 * 1234, \n",
    "    include_bias=True\n",
    ")\n",
    "\n",
    "# swim model approximation is\n",
    "phi_2 = swim_model.transform(x).reshape(-1) # (N)\n",
    "train_mse_loss = np.sum((H(x_train_values).reshape(-1) - swim_model.transform(x_train_values).reshape(-1))**2) / K\n",
    "eval_mse_loss = np.sum((y - phi_2)**2) / N\n",
    "print(\"train loss:\", str(train_mse_loss))\n",
    "print(\"eval loss:\", str(eval_mse_loss))"
   ]
  },
  {
   "cell_type": "code",
   "execution_count": null,
   "id": "16455809-9406-43a4-9a19-c978aca86f83",
   "metadata": {},
   "outputs": [],
   "source": []
  },
  {
   "cell_type": "code",
   "execution_count": null,
   "id": "bc413e86-f27c-46e7-8a72-b78c3f13a60a",
   "metadata": {},
   "outputs": [],
   "source": []
  }
 ],
 "metadata": {
  "kernelspec": {
   "display_name": "Python 3 (ipykernel)",
   "language": "python",
   "name": "python3"
  },
  "language_info": {
   "codemirror_mode": {
    "name": "ipython",
    "version": 3
   },
   "file_extension": ".py",
   "mimetype": "text/x-python",
   "name": "python",
   "nbconvert_exporter": "python",
   "pygments_lexer": "ipython3",
   "version": "3.11.5"
  }
 },
 "nbformat": 4,
 "nbformat_minor": 5
}
