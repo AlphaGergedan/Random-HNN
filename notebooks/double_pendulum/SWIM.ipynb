{
 "cells": [
  {
   "cell_type": "code",
   "execution_count": 1,
   "id": "79c23370-8181-4c00-a497-0b5895b3593f",
   "metadata": {},
   "outputs": [],
   "source": [
    "# append code path\n",
    "import sys\n",
    "sys.path.append('../../../code')\n",
    "\n",
    "# common modules\n",
    "import numpy as np\n",
    "from time import time\n",
    "from swimnetworks import Linear, Dense\n",
    "from activations import Activations \n",
    "\n",
    "# swim solving Hamiltonian systems\n",
    "from swim import solve_swim_hamiltonian, weight_sampling\n",
    "from NN.extreme_learning_machine import ELM\n",
    "\n",
    "# physical systems\n",
    "from double_nonlinear_pendulum import DoubleNonlinearPendulum\n",
    "\n",
    "# utils for visualization\n",
    "from draw import draw_2d\n",
    "\n",
    "\n",
    "# TODO remove later\n",
    "from itertools import combinations"
   ]
  },
  {
   "cell_type": "markdown",
   "id": "1f77313b-6d12-4c9c-91f2-ecfa3572160e",
   "metadata": {},
   "source": [
    "## **4-D Example**\n",
    "\n",
    "The following function is a Hamiltonian with 2 degrees of freedom. Therefore, let's define our general Hamiltonian system!\n",
    "\n",
    "A Hamiltonian system is determined through a function called ***Hamiltonian***. \n",
    "\n",
    "### $$H: E \\rightarrow \\mathbb{R} $$  \n",
    "\n",
    "The Hamiltonian incorporates the following set of equations that dictates how a dynamical system changes and evolves over time.  \n",
    "\n",
    "### $$ \\frac{\\partial q(t)}{\\partial t} = \\frac{\\partial H(q(t),p(t))}{\\partial p} $$\n",
    "\n",
    "### $$ \\frac{\\partial p(t)}{\\partial t} = -\\frac{\\partial H(q(t),p(t))}{\\partial q} $$\n",
    "\n",
    "Where $(q,p) \\in \\mathbb{R}^{2n}$, and $n$ is the number of degrees of freedom of the system. The equations above can be restated as the following to construct a PDE for $H$ at every $(q,p) \\in E $,\n",
    "\n",
    "### $$\\begin{bmatrix} 0 & I \\\\ -I & 0 \\end{bmatrix} \\cdot \\nabla H(q,p) - v(q,p) $$\n",
    "### $$ = \\begin{bmatrix} 0 & I \\\\ -I & 0 \\end{bmatrix} \\cdot \\begin{bmatrix} \\frac{\\partial H(q,p)}{\\partial q} \\\\ \\frac{\\partial H(q,p)}{\\partial p} \\end{bmatrix} - \\begin{bmatrix} \\frac{\\partial q}{\\partial t} \\\\ \\frac{\\partial p}{\\partial t} \\end{bmatrix} $$\n",
    "### $$ = \\begin{bmatrix} \\frac{\\partial H(q,p)}{\\partial p} \\\\ -\\frac{\\partial H(q,p)}{\\partial q} \\end{bmatrix} - \\begin{bmatrix} \\frac{\\partial q}{\\partial t} \\\\ \\frac{\\partial p}{\\partial t} \\end{bmatrix} = 0 $$\n",
    "\n",
    "where $I \\in \\mathbb{R}^{n \\times n}$ is the identity matrix and $v$ is the vector field on $E$. \n",
    "\n",
    "### **Nonlinear Double Pendulum**\n",
    "\n",
    "The particular function that we want to approximate is the nonlinear double pendulum. This system has two degrees of freedom, i.e. $n = 2$, so $(q,p) \\in \\mathbb{R}^4$ where $q = (q_1, q_2)$ and $p = (p_1, p_2)$, and the PDE for H is as the following:\n",
    "\n",
    "The Hamiltonian for this particular system is the following:\n",
    "\n",
    "### $$H: \\mathbb{R}^4 \\rightarrow \\mathbb{R} $$  \n",
    "### $$ H(q,p) = \\frac{p_1^2 + 2 p_{2}^{2} - 2 p_1 p_2 \\cos(q_1 - q_2)}{2 (1 + \\sin^2(q_1 - q_2))} - 2 \\cos(q1) - \\cos(q2) $$\n",
    "\n",
    "### $$ \\frac{\\partial q_1(t)}{\\partial t} = \\frac{\\partial H(q(t),p(t))}{\\partial p_1} = \\frac{p_1 - p_2 \\cos(q_1 - q_2)}{1 + \\sin^{2}(q_1 - q_2)} $$\n",
    "### $$ \\frac{\\partial q_2(t)}{\\partial t} = \\frac{\\partial H(q(t),p(t))}{\\partial p_2} = \\frac{2 p_2 - p_1 \\cos(q_1 - q_2)}{1 + \\sin^{2}(q_1 - q_2)} $$\n",
    "### $$ \\frac{\\partial p_1(t)}{\\partial t} = -\\frac{\\partial H(q(t),p(t))}{\\partial q_1} = -2 \\sin(q_1) - h_1 + h_2 \\sin(2 (q_1 - q_2)) $$\n",
    "### $$ \\frac{\\partial p_2(t)}{\\partial t} = -\\frac{\\partial H(q(t),p(t))}{\\partial q_2} = -\\sin(q_2) + h_1 - h_2 \\sin(2 (q_1 - q_2)) $$"
   ]
  },
  {
   "cell_type": "code",
   "execution_count": 2,
   "id": "50174060-6946-4269-8905-309c3872beb4",
   "metadata": {},
   "outputs": [
    {
     "name": "stdout",
     "output_type": "stream",
     "text": [
      "(6250000,)\n"
     ]
    }
   ],
   "source": [
    "double_nonlinear_pendulum = DoubleNonlinearPendulum()\n",
    "H = double_nonlinear_pendulum.H\n",
    "dH = double_nonlinear_pendulum.dH\n",
    "\n",
    "# We will plot the phase space of our example system \n",
    "# to get an overview of the global view of the phase \n",
    "# space that we would like to approximate.\n",
    "\n",
    "# num. of points in the grid, grid dimension is (N_q1 x N_q2 x N_p1 x N_p2)\n",
    "N_q1, N_q2, N_p1, N_p2 = 50, 50, 50, 50\n",
    "N = N_q1 * N_q2 * N_p1 * N_p2 \n",
    "q1_lim, q2_lim = [-np.pi,np.pi], [-np.pi, np.pi]\n",
    "p1_lim, p2_lim = [-np.pi, np.pi], [-np.pi, np.pi]\n",
    " \n",
    "q1_range, q2_range = np.linspace(q1_lim[0], q1_lim[1], N_q1), np.linspace(q2_lim[0], q2_lim[1], N_q2)\n",
    "p1_range, p2_range = np.linspace(p1_lim[0], p1_lim[1], N_p1), np.linspace(p2_lim[0], p2_lim[1], N_p2)\n",
    "\n",
    "q1_grid, q2_grid, p1_grid, p2_grid = np.meshgrid(q1_range, q2_range, p1_range, p2_range)\n",
    "\n",
    "# prepare the input x = [ x_1, .., x_{N} ] of shape (N,4) \n",
    "x = np.column_stack([q1_grid.flatten(), q2_grid.flatten(), p1_grid.flatten(), p2_grid.flatten()])\n",
    "y = H(x) # of shape (N,)\n",
    "dx = dH(x) # of shape (N, 4)\n",
    "assert x.shape == (N, 4)\n",
    "assert y.shape == (N,)\n",
    "assert dx.shape == (N, 4)\n",
    "\n",
    "# in order to plot the values, we need to have output of H(x) in\n",
    "# shape (N_q2, N_q1, N_p1, N_p2), which means we get the value H(x)[i,j,k,l] for the \n",
    "# grid point at (q2_grid[i,j,k,l], q1_grid[i,j,k,l], p1_grid[i,j,k,l], p2_grid[i,j,k,l])\n",
    "print(y.shape)\n",
    "y_grid = y.reshape((N_q2, N_q1, N_p1, N_p2))\n",
    "#dx_grid = dx.reshape((N_q2, N_q1, N_p1, N_p2, 4))\n",
    "\n",
    "# will not be used\n",
    "del y, dx"
   ]
  },
  {
   "cell_type": "code",
   "execution_count": 3,
   "id": "d095fe5f-00bf-4c28-aaa3-4dc57e96847d",
   "metadata": {},
   "outputs": [],
   "source": [
    "# visualize H(x)\n",
    "# fix q1 = 0, p1 = 0 by choosing j = N_q1 / 2 and k = N_p1 / 2\n",
    "#print(\"y_grid[:,..,..,:] shape:\", y_grid[:, N_q1 // 2, N_p1 // 2, :].shape)\n",
    "#print(\"N_q1 / 2 == \" + str(N_q1 // 2))\n",
    "#print(\"y_grid[0, N_q1//2]\")\n",
    "\n",
    "# for 4d poincare maps\n",
    "def draw_poincare(grid, xrange, yrange, extent, contourlines, xlabel, ylabel, aspect, title, fixed_dims={\"q1\": 0, \"q2\":0}, save=False, verbose=True):\n",
    "    fixed_dims_names = list(fixed_dims.keys())\n",
    "    fixed_dims_values = list(fixed_dims.values())\n",
    "    title = title + \"\\n\" + \"with \" + fixed_dims_names[0] + \"=\" + str(fixed_dims_values[0]) + \",\" + fixed_dims_names[1] + \"=\" + str(fixed_dims_values[1])\n",
    "    if save:\n",
    "        save = \"./plots/\" + title.replace(\"\\n\", \"_\").replace(\"=\", \"_\").replace(\",\", \"_\").replace(\" \", \"_\") + \".pdf\"  \n",
    "    else:\n",
    "        save = \"\"\n",
    "    draw_2d(grid, xrange, yrange, extent=extent, contourlines=contourlines, xlabel=xlabel, ylabel=ylabel, aspect=aspect, title=title, save=save, verbose=verbose)\n",
    "\n",
    "def draw_poincares(grid, title, save=False, verbose=True):\n",
    "    draw_poincare(grid[:, N_q1//2, N_p1//2, :].reshape((N_p2, N_q2)), q2_range, p2_range, [q2_lim[0],q2_lim[1],p2_lim[0],p2_lim[1]], 50, \"q2\", \"p2\", 1, \n",
    "                  title, { \"q1\": q1_range[N_q1//2], \"p1\": p1_range[N_p1//2] }, save=True, verbose=verbose)\n",
    "\n",
    "    draw_poincare(grid[N_q2//2, :, :, N_p2//2].reshape((N_p1, N_q1)), q1_range, p1_range, [q1_lim[0],q1_lim[1],p1_lim[0],p1_lim[1]], 50, \"q1\", \"p1\", 1, \n",
    "                  title, { \"q2\": q2_range[N_q2//2], \"p2\": p2_range[N_p2//2] }, save=True, verbose=verbose)\n",
    "\n",
    "    draw_poincare(grid[:, :, N_p1//2, N_p2//2].reshape((N_q1, N_q2)), q2_range, q1_range, [q2_lim[0],q2_lim[1],q1_lim[0],q1_lim[1]], 50, \"q2\", \"q1\", 1, \n",
    "                  title, { \"p1\": p1_range[N_p1//2], \"p2\": p2_range[N_p2//2] }, save=True, verbose=verbose)\n",
    "\n",
    "    draw_poincare(grid[N_q2//2, N_q1//2, :, :].reshape((N_p2, N_p1)), p1_range, p2_range, [p1_lim[0],p1_lim[1],p2_lim[0],p2_lim[1]], 50, \"p1\", \"p2\", 1, \n",
    "                  title, { \"q1\": q1_range[N_q1//2], \"q2\": q2_range[N_q2//2] }, save=True, verbose=verbose)\n",
    "\n",
    "    draw_poincare(grid[40, 0, :, :].reshape(N_p2, N_p1), p1_range, p2_range, [p1_lim[0],p1_lim[1],p2_lim[0],p2_lim[1]], 50, \"p1\", \"p2\", 1,\n",
    "                  title, { \"q2\": q2_range[40], \"q1\": q1_range[0] }, save=True, verbose=verbose)\n",
    "\n",
    "    draw_poincare(grid[40, :, 8, :].reshape((N_p2, N_q1)), q1_range, p2_range, [q1_lim[0],q1_lim[1],p2_lim[0],p2_lim[1]], 50, \"q1\", \"p2\", 1,\n",
    "                  title, { \"q2\": q2_range[40], \"p1\": p1_range[8] }, save=True, verbose=verbose)\n",
    "\n",
    "    draw_poincare(grid[0, :, 0, :].reshape((N_p2, N_q1)), q1_range, p2_range, [q1_lim[0],q1_lim[1],p2_lim[0],p2_lim[1]], 50, \"q1\", \"p2\", 1, \n",
    "                  title, { \"q2\": q2_range[0], \"p1\": p1_range[0] }, save=True, verbose=verbose)\n",
    "\n",
    "draw_poincares(y_grid, \"Original Double Pendulum Hamiltonian\", save=True, verbose=False)"
   ]
  },
  {
   "cell_type": "code",
   "execution_count": 4,
   "id": "d4fc1662-dcae-41b8-a42f-2b99181ec671",
   "metadata": {},
   "outputs": [],
   "source": [
    "np.random.seed(123495)\n",
    "\n",
    "# Sample training dataset\n",
    "# hint: use sampled 1000 random points in [-pi/2,pi/2]x[-1/2,1/2]\n",
    "#noise = 1e-5\n",
    "noise = 0 # test with noise later TODO\n",
    "#K_q1, K_q2, K_p1, K_p2 = 25, 25, 5, 5 # 15625\n",
    "K_q1, K_q2, K_p1, K_p2 = 10, 10, 10, 10 # 10,000 points\n",
    "K = K_q1 * K_q2 * K_p1 * K_p2\n",
    "q1_lim_train, q2_lim_train = [-np.pi, np.pi], [-np.pi, np.pi]\n",
    "p1_lim_train, p2_lim_train = [-np.pi, np.pi], [-np.pi, np.pi]\n",
    "q1_range_train, q2_range_train = np.linspace(q1_lim_train[0], q1_lim_train[1], K_q1)+np.random.randn(K_q1)*noise*1e-3, np.linspace(q2_lim_train[0], q2_lim_train[1], K_q2)+np.random.randn(K_q1)*noise*1e-3\n",
    "p1_range_train, p2_range_train = np.linspace(p1_lim_train[0], p1_lim_train[1], K_p1)+np.random.randn(K_p1)*noise*1e-3, np.linspace(p2_lim_train[0], p2_lim_train[1], K_p2)+np.random.randn(K_p2)*noise*1e-3\n",
    "q1_grid_train, q2_grid_train, p1_grid_train, p2_grid_train = np.meshgrid(q1_range_train, q2_range_train, p1_range_train, p2_range_train) \n",
    "x_train_values = np.column_stack([q1_grid_train.flatten(), q2_grid_train.flatten(), p1_grid_train.flatten(), p2_grid_train.flatten()])\n",
    "x_train_derivs = dH(x_train_values) # of shape (K,4)\n",
    "x0 = np.array([0,0,0,0])\n",
    "f0 = H(x0.reshape(-1,4))\n",
    "\n",
    "# Sample points that we want to predict (same as above plot) \n",
    "q1_lim_pred, q2_lim_pred = [-np.pi,np.pi], [-np.pi, np.pi]\n",
    "p1_lim_pred, p2_lim_pred = [-np.pi,np.pi], [-np.pi, np.pi]\n",
    "q1_range_pred, q2_range_pred = q1_range+np.random.randn(N_q1)*noise*1e-3, q2_range+np.random.randn(N_q2)*noise*1e-3 \n",
    "p1_range_pred, p2_range_pred = p1_range+np.random.randn(N_p1)*noise*1e-3, p2_range+np.random.randn(N_p2)*noise*1e-3 \n",
    "\n",
    "q1_grid_pred, q2_grid_pred, p1_grid_pred, p2_grid_pred = np.meshgrid(q1_range_pred, q2_range_pred, p1_range_pred, p2_range_pred)\n",
    "x_pred = np.column_stack([q1_grid_pred.flatten(), q2_grid_pred.flatten(), p1_grid_pred.flatten(), p2_grid_pred.flatten()])\n",
    "\n",
    "y_true = H(x) # of shape (N,) WITHOUT THE NOISE"
   ]
  },
  {
   "cell_type": "code",
   "execution_count": 15,
   "id": "92bec851-9e94-4cd1-a9a7-256d7d519659",
   "metadata": {},
   "outputs": [],
   "source": [
    "def solve(title, random_seed=1, M=128, regularization_scale=1e-8, sample_uniformly=True, full_swim=False, parameter_sampler=\"relu\", activation=\"relu\", verbose=True):\n",
    "    if full_swim:\n",
    "        # swim model with approximation, first train with noisy data\n",
    "        swim_model = weight_sampling(x_train_values, x_train_derivs, x0, f0,\n",
    "                                     n_hidden=M, activation=activation, parameter_sampler=parameter_sampler, rcond=regularization_scale, random_seed=1 + random_seed + 1 * 1234, \n",
    "                                     include_bias=True)\n",
    "    else:\n",
    "        swim_model = solve_swim_hamiltonian(x_train_values, x_train_derivs, x0, f0,\n",
    "                                            n_hidden=M, activation=activation, parameter_sampler=parameter_sampler, sample_uniformly=sample_uniformly, rcond=regularization_scale, random_seed=1 + random_seed + 1 * 1234, \n",
    "                                            include_bias=True)\n",
    "\n",
    "    # perform approximation on clean data\n",
    "    phi_2 = swim_model.transform(x).reshape(-1) # (N)\n",
    "\n",
    "    # train loss on the points we have trained (noisy data)\n",
    "    train_mse_loss = np.sum((H(x_train_values).reshape(-1) - swim_model.transform(x_train_values).reshape(-1))**2) / K\n",
    "        \n",
    "    # eval loss on clean data\n",
    "    eval_mse_loss = np.sum((y_true - phi_2)**2) / N\n",
    "        \n",
    "    print(title + \" -> train loss:\", str(train_mse_loss))\n",
    "    print(title + \" -> eval loss:\", str(eval_mse_loss))\n",
    "\n",
    "    phi_2 = phi_2.reshape((N_q2, N_q1, N_p1, N_p2))\n",
    "    draw_poincares(phi_2, title, save=True, verbose=verbose)"
   ]
  },
  {
   "cell_type": "code",
   "execution_count": 16,
   "id": "3a6df764-a03b-421c-a9cf-459265080adc",
   "metadata": {},
   "outputs": [
    {
     "name": "stdout",
     "output_type": "stream",
     "text": [
      "ELM (relu) Double Pendulum Hamiltonian -> train loss: 8.21177978215589\n",
      "ELM (relu) Double Pendulum Hamiltonian -> eval loss: 6.567994861847643\n"
     ]
    }
   ],
   "source": [
    "solve(\"ELM (relu) Double Pendulum Hamiltonian\", parameter_sampler=\"random\", activation=\"relu\", full_swim=False, verbose=False)"
   ]
  },
  {
   "cell_type": "code",
   "execution_count": 17,
   "id": "5d2d5446-7176-4b41-b2ee-971036594d12",
   "metadata": {},
   "outputs": [
    {
     "name": "stdout",
     "output_type": "stream",
     "text": [
      "SWIM (relu) with Random Sampling Double Pendulum Hamiltonian -> train loss: 17.051978671818624\n",
      "SWIM (relu) with Random Sampling Double Pendulum Hamiltonian -> eval loss: 14.506729733836327\n"
     ]
    }
   ],
   "source": [
    "solve(\"SWIM (relu) with Random Sampling Double Pendulum Hamiltonian\", parameter_sampler=\"relu\", activation=\"relu\", full_swim=False, verbose=False)"
   ]
  },
  {
   "cell_type": "code",
   "execution_count": 18,
   "id": "27d39839-df6e-4c2b-9709-3a0cf9add910",
   "metadata": {},
   "outputs": [
    {
     "name": "stdout",
     "output_type": "stream",
     "text": [
      "SWIM (relu) with Approximation Double Pendulum Hamiltonian -> train loss: 9.989376564211394\n",
      "SWIM (relu) with Approximation Double Pendulum Hamiltonian -> eval loss: 7.924377431842241\n"
     ]
    }
   ],
   "source": [
    "solve(\"SWIM (relu) with Approximation Double Pendulum Hamiltonian\", parameter_sampler=\"relu\", activation=\"relu\", full_swim=True, verbose=False)"
   ]
  },
  {
   "cell_type": "code",
   "execution_count": 19,
   "id": "a7393067-cfe5-4b78-a8bc-a3140be8c161",
   "metadata": {},
   "outputs": [
    {
     "name": "stdout",
     "output_type": "stream",
     "text": [
      "ELM (tanh) Double Pendulum Hamiltonian -> train loss: 15.591729896647827\n",
      "ELM (tanh) Double Pendulum Hamiltonian -> eval loss: 14.387824426876561\n"
     ]
    }
   ],
   "source": [
    "solve(\"ELM (tanh) Double Pendulum Hamiltonian\", parameter_sampler=\"random\", activation=\"tanh\", full_swim=False, verbose=False)"
   ]
  },
  {
   "cell_type": "code",
   "execution_count": 20,
   "id": "8a447035-bcc8-46cf-bd0b-6c762a41dea3",
   "metadata": {},
   "outputs": [
    {
     "name": "stdout",
     "output_type": "stream",
     "text": [
      "SWIM (tanh) with Random Sampling Double Pendulum Hamiltonian -> train loss: 6.399127243199689\n",
      "SWIM (tanh) with Random Sampling Double Pendulum Hamiltonian -> eval loss: 4.74277093933671\n"
     ]
    }
   ],
   "source": [
    "solve(\"SWIM (tanh) with Random Sampling Double Pendulum Hamiltonian\", parameter_sampler=\"tanh\", activation=\"tanh\", full_swim=False, verbose=False)"
   ]
  },
  {
   "cell_type": "code",
   "execution_count": 21,
   "id": "6fbbebab-0dce-4a6b-b38a-9b4cd8b1e993",
   "metadata": {},
   "outputs": [
    {
     "name": "stdout",
     "output_type": "stream",
     "text": [
      "SWIM (tanh) with Approximation Double Pendulum Hamiltonian -> train loss: 6.814292130660309\n",
      "SWIM (tanh) with Approximation Double Pendulum Hamiltonian -> eval loss: 5.308832460912402\n"
     ]
    }
   ],
   "source": [
    "solve(\"SWIM (tanh) with Approximation Double Pendulum Hamiltonian\", parameter_sampler=\"tanh\", activation=\"tanh\", full_swim=True, verbose=False)"
   ]
  },
  {
   "cell_type": "code",
   "execution_count": 22,
   "id": "1f33f5de-db88-48ae-be3d-63a3b3ddf4fa",
   "metadata": {},
   "outputs": [
    {
     "name": "stdout",
     "output_type": "stream",
     "text": [
      "ELM (sigmoid) Double Pendulum Hamiltonian -> train loss: 17.160630293818386\n",
      "ELM (sigmoid) Double Pendulum Hamiltonian -> eval loss: 16.0005504719683\n"
     ]
    }
   ],
   "source": [
    "solve(\"ELM (sigmoid) Double Pendulum Hamiltonian\", parameter_sampler=\"random\", activation=\"sigmoid\", full_swim=False, verbose=False)"
   ]
  },
  {
   "cell_type": "code",
   "execution_count": 23,
   "id": "04d3ca1f-b7a6-41e9-bc39-844ea0a53b8c",
   "metadata": {},
   "outputs": [
    {
     "name": "stdout",
     "output_type": "stream",
     "text": [
      "SWIM (sigmoid) with Random Sampling Double Pendulum Hamiltonian -> train loss: 6.842137589703514\n",
      "SWIM (sigmoid) with Random Sampling Double Pendulum Hamiltonian -> eval loss: 4.960105374043485\n"
     ]
    }
   ],
   "source": [
    "solve(\"SWIM (sigmoid) with Random Sampling Double Pendulum Hamiltonian\", parameter_sampler=\"tanh\", activation=\"sigmoid\", full_swim=False, verbose=False)"
   ]
  },
  {
   "cell_type": "code",
   "execution_count": 24,
   "id": "6d1d41ca-ef5b-4a79-9316-7ae0ee656e43",
   "metadata": {},
   "outputs": [
    {
     "name": "stdout",
     "output_type": "stream",
     "text": [
      "SWIM (sigmoid) with Approximation Double Pendulum Hamiltonian -> train loss: 6.7162859420612175\n",
      "SWIM (sigmoid) with Approximation Double Pendulum Hamiltonian -> eval loss: 5.058384934448995\n"
     ]
    }
   ],
   "source": [
    "solve(\"SWIM (sigmoid) with Approximation Double Pendulum Hamiltonian\", parameter_sampler=\"tanh\", activation=\"sigmoid\", full_swim=True, verbose=False)"
   ]
  },
  {
   "cell_type": "code",
   "execution_count": null,
   "id": "e7db0205-eb4b-491c-a9fb-0fccb918c157",
   "metadata": {},
   "outputs": [],
   "source": []
  },
  {
   "cell_type": "code",
   "execution_count": null,
   "id": "7a81a3ae-669f-4b51-a4a8-8fef160621c5",
   "metadata": {},
   "outputs": [],
   "source": []
  },
  {
   "cell_type": "code",
   "execution_count": null,
   "id": "076b0fbd-ed5c-463d-bd97-9387a2a9646d",
   "metadata": {},
   "outputs": [],
   "source": []
  },
  {
   "cell_type": "code",
   "execution_count": null,
   "id": "3ee38d57-c96d-4f2d-b0d1-c36d1171a9bb",
   "metadata": {},
   "outputs": [],
   "source": []
  },
  {
   "cell_type": "code",
   "execution_count": null,
   "id": "bcf70346-070a-4892-83dc-f3628941df36",
   "metadata": {},
   "outputs": [],
   "source": []
  }
 ],
 "metadata": {
  "kernelspec": {
   "display_name": "Python 3 (ipykernel)",
   "language": "python",
   "name": "python3"
  },
  "language_info": {
   "codemirror_mode": {
    "name": "ipython",
    "version": 3
   },
   "file_extension": ".py",
   "mimetype": "text/x-python",
   "name": "python",
   "nbconvert_exporter": "python",
   "pygments_lexer": "ipython3",
   "version": "3.11.5"
  }
 },
 "nbformat": 4,
 "nbformat_minor": 5
}
